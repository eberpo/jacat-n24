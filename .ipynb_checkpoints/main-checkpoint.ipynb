{
 "cells": [
  {
   "cell_type": "markdown",
   "metadata": {},
   "source": [
    "Notebook for HackUPC 2024"
   ]
  },
  {
   "cell_type": "code",
   "execution_count": 5,
   "metadata": {},
   "outputs": [
    {
     "name": "stdout",
     "output_type": "stream",
     "text": [
      "Processed Woman_in_a_V-Neck_T-Shirt.jpg\n",
      "All images have been processed.\n"
     ]
    }
   ],
   "source": [
    "from rembg import remove\n",
    "import os\n",
    "\n",
    "# Define the input and output directories\n",
    "input_dir = 'images'\n",
    "output_dir = 'output_images'\n",
    "\n",
    "# Create the output directory if it doesn't exist\n",
    "if not os.path.exists(output_dir):\n",
    "    os.makedirs(output_dir)\n",
    "\n",
    "# Loop through all files in the input directory\n",
    "for filename in os.listdir(input_dir):\n",
    "    # Check for file extension to process only images (e.g., .jpg, .png)\n",
    "    if filename.lower().endswith(('.png', '.jpg', '.jpeg')):\n",
    "        input_path = os.path.join(input_dir, filename)\n",
    "        output_path = os.path.join(output_dir, filename)\n",
    "        \n",
    "        # Open the input image, apply rembg and save the output\n",
    "        with open(input_path, 'rb') as i:\n",
    "            with open(output_path, 'wb') as o:\n",
    "                input_image = i.read()\n",
    "                output_image = remove(input_image)\n",
    "                o.write(output_image)\n",
    "        print(f\"Processed {filename}\")\n",
    "\n",
    "print(\"All images have been processed.\")\n"
   ]
  },
  {
   "cell_type": "code",
   "execution_count": null,
   "metadata": {},
   "outputs": [],
   "source": []
  }
 ],
 "metadata": {
  "kernelspec": {
   "display_name": "Python 3 (ipykernel)",
   "language": "python",
   "name": "python3"
  },
  "language_info": {
   "codemirror_mode": {
    "name": "ipython",
    "version": 3
   },
   "file_extension": ".py",
   "mimetype": "text/x-python",
   "name": "python",
   "nbconvert_exporter": "python",
   "pygments_lexer": "ipython3",
   "version": "3.11.5"
  }
 },
 "nbformat": 4,
 "nbformat_minor": 2
}
